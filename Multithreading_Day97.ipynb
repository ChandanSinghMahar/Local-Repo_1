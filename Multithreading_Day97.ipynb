{
 "cells": [
  {
   "cell_type": "markdown",
   "metadata": {},
   "source": [
    "## Multithreading"
   ]
  },
  {
   "cell_type": "code",
   "execution_count": 1,
   "metadata": {},
   "outputs": [
    {
     "name": "stdout",
     "output_type": "stream",
     "text": [
      "Sleeping for 3 seconds\n",
      "Sleeping for 5 seconds\n",
      "Sleeping for 1 seconds\n",
      "Sleeping for 2 seconds\n",
      "3\n",
      "5\n",
      "1\n",
      "2\n"
     ]
    }
   ],
   "source": [
    "import threading\n",
    "import time\n",
    "from concurrent.futures import ThreadPoolExecutor\n",
    "\n",
    "# Indicates some task be done\n",
    "def func(seconds):\n",
    "    print(f\"Sleeping for {seconds} seconds\")\n",
    "    time.sleep(seconds)\n",
    "    return seconds\n",
    "    \n",
    "def main():\n",
    "    time1 = time.perf_counter()\n",
    "    # Normal Code  \n",
    "    # func(4)\n",
    "    # func(2)\n",
    "    # func(1)\n",
    "\n",
    "    # Same code using Threads\n",
    "    t1 = threading.Thread(target = func, args = [4])\n",
    "    t2 = threading.Thread(target = func, args = [4])\n",
    "    t3 = threading.Thread(target = func, args = [4])\n",
    "\n",
    "    t1.start()\n",
    "    t2.start()\n",
    "    t3.start()\n",
    "\n",
    "\n",
    "    t1.join()\n",
    "    t2.join()\n",
    "    t3.join()\n",
    "\n",
    "    # Calculating Time\n",
    "    time2 = time.perf_counter()\n",
    "    print(time2 - time1)\n",
    "    \n",
    "  \n",
    "def poolingDemo():\n",
    "  with ThreadPoolExecutor() as executor:\n",
    "    # future1 = executor.submit(func, 3)\n",
    "    # future2 = executor.submit(func, 2)\n",
    "    # future3 = executor.submit(func, 4)\n",
    "    # print(future1.result())\n",
    "    # print(future2.result())\n",
    "    # print(future3.result())\n",
    "    l = [3, 5, 1, 2]\n",
    "    results = executor.map(func, l)\n",
    "    for result in results:\n",
    "      print(result)\n",
    "    \n",
    "poolingDemo()"
   ]
  },
  {
   "cell_type": "code",
   "execution_count": 2,
   "metadata": {},
   "outputs": [
    {
     "name": "stdout",
     "output_type": "stream",
     "text": [
      "Counter value: 0\n"
     ]
    }
   ],
   "source": [
    "import threading\n",
    "\n",
    "def increment(counter, lock):\n",
    "    for i in range(10000):\n",
    "        lock.acquire()\n",
    "        counter += 1\n",
    "        lock.release()\n",
    "\n",
    "if __name__ == '__main__':\n",
    "    counter = 0\n",
    "    lock = threading.Lock()\n",
    "\n",
    "    threads = []\n",
    "    for i in range(2):\n",
    "        thread = threading.Thread(target=increment, args=(counter, lock))\n",
    "        threads.append(thread)\n",
    "        thread.start()\n",
    "\n",
    "    for thread in threads:\n",
    "        thread.join()\n",
    "\n",
    "    print(\"Counter value:\", counter)"
   ]
  },
  {
   "cell_type": "code",
   "execution_count": 3,
   "metadata": {},
   "outputs": [
    {
     "name": "stdout",
     "output_type": "stream",
     "text": [
      "Task processed: 1\n",
      "Task processed: 2\n",
      "Task processed: 3\n",
      "Task processed: 4\n",
      "Task processed: 5\n",
      "Task processed: 6\n",
      "Task processed: 7\n",
      "Task processed: 8\n",
      "Task processed: 9\n",
      "Task processed: 10\n"
     ]
    }
   ],
   "source": [
    "import threading\n",
    "\n",
    "def thread_task(task):\n",
    "    # Do some work here\n",
    "    print(\"Task processed:\", task)\n",
    "\n",
    "if __name__ == '__main__':\n",
    "    tasks = [1, 2, 3, 4, 5, 6, 7, 8, 9, 10]\n",
    "\n",
    "    threads = []\n",
    "    for task in tasks:\n",
    "        thread = threading.Thread(target=thread_task, args=(task,))\n",
    "        threads.append(thread)\n",
    "        thread.start()\n",
    "\n",
    "    for thread in threads:\n",
    "        thread.join()"
   ]
  }
 ],
 "metadata": {
  "kernelspec": {
   "display_name": "Python 3",
   "language": "python",
   "name": "python3"
  },
  "language_info": {
   "codemirror_mode": {
    "name": "ipython",
    "version": 3
   },
   "file_extension": ".py",
   "mimetype": "text/x-python",
   "name": "python",
   "nbconvert_exporter": "python",
   "pygments_lexer": "ipython3",
   "version": "3.12.1"
  }
 },
 "nbformat": 4,
 "nbformat_minor": 2
}
