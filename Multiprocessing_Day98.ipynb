{
 "cells": [
  {
   "cell_type": "markdown",
   "metadata": {},
   "source": [
    "## Multiprocessing"
   ]
  },
  {
   "cell_type": "code",
   "execution_count": 14,
   "metadata": {},
   "outputs": [],
   "source": [
    "import multiprocessing\n",
    "import requests\n",
    "import os\n",
    "\n",
    "def downloadFile(url, name):\n",
    "    print(f\"Starting Downloading {name}\")\n",
    "    response = requests.get(url)\n",
    "    os.mkdirs('files', exist_ok = True)\n",
    "    with open(f\"files/file {name}.jpg\", \"wb\") as file:        \n",
    "        file.write(response.content)\n",
    "    print(f\"Finished Downloading {name}\")\n",
    "\n",
    "url = \"https://picsum.photos/1920/1080\"\n",
    "\n",
    "pros = []\n",
    "if __name__==\"__main__\":\n",
    "    for i in range(5):\n",
    "        # downloadFile(url, i)\n",
    "        p = multiprocessing.Process(target=downloadFile, args= [url,i])\n",
    "        p.start()\n",
    "        pros.append(p)\n",
    "        \n",
    "    for p in pros:\n",
    "        p.join()"
   ]
  },
  {
   "cell_type": "code",
   "execution_count": 15,
   "metadata": {},
   "outputs": [],
   "source": [
    "import multiprocessing\n",
    "import requests\n",
    "import os\n",
    "\n",
    "def downloadFile(url, name):\n",
    "    print(f\"Starting Downloading {name}\")\n",
    "    response = requests.get(url)\n",
    "    # Ensure the 'files' directory exists\n",
    "    os.makedirs('files', exist_ok=True)\n",
    "    with open(f\"files/file_{name}.jpg\", \"wb\") as file:\n",
    "        file.write(response.content)\n",
    "    print(f\"Finished Downloading {name}\")\n",
    "\n",
    "url = \"https://picsum.photos/1920/1080\"\n",
    "\n",
    "if __name__ == \"__main__\":\n",
    "    pros = []\n",
    "    for i in range(5):\n",
    "        p = multiprocessing.Process(target=downloadFile, args=(url, i))\n",
    "        p.start()\n",
    "        pros.append(p)\n",
    "        \n",
    "    for p in pros:\n",
    "        p.join()\n"
   ]
  },
  {
   "cell_type": "code",
   "execution_count": null,
   "metadata": {},
   "outputs": [],
   "source": []
  }
 ],
 "metadata": {
  "kernelspec": {
   "display_name": "Python 3",
   "language": "python",
   "name": "python3"
  },
  "language_info": {
   "codemirror_mode": {
    "name": "ipython",
    "version": 3
   },
   "file_extension": ".py",
   "mimetype": "text/x-python",
   "name": "python",
   "nbconvert_exporter": "python",
   "pygments_lexer": "ipython3",
   "version": "3.12.1"
  }
 },
 "nbformat": 4,
 "nbformat_minor": 2
}
